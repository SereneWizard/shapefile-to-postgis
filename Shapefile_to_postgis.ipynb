{
 "cells": [
  {
   "cell_type": "markdown",
   "metadata": {},
   "source": [
    "# Read from shapefile to PostGIS table"
   ]
  },
  {
   "cell_type": "code",
   "execution_count": null,
   "metadata": {},
   "outputs": [],
   "source": [
    "# Import necessary libraries\n",
    "import os\n",
    "import glob\n",
    "import psycopg2\n",
    "import fiona\n",
    "from shapely.geometry import Polygon"
   ]
  },
  {
   "cell_type": "markdown",
   "metadata": {},
   "source": [
    "Let's read some of the necessary metadata from the shapefile. Metadata read includes the CRS, the attributes of the features. For this, we will use *fiona* to read the first feature (using context manager) from the shapefile and extract the metadata from it. "
   ]
  },
  {
   "cell_type": "code",
   "execution_count": null,
   "metadata": {},
   "outputs": [],
   "source": [
    "infname = glob.glob('vector/*.shp')[0]\n",
    "with fiona.drivers():\n",
    "    with fiona.open(infname) as src:\n",
    "        geom = src.crs\n",
    "        feat = src.next()\n",
    "        attributes = feat['properties'].keys()\n",
    "        gemtype = feat['geometry']['type']\n",
    "        "
   ]
  },
  {
   "cell_type": "markdown",
   "metadata": {},
   "source": [
    "Next, we connect to a postgres database (in this case, in the localhost)"
   ]
  },
  {
   "cell_type": "code",
   "execution_count": null,
   "metadata": {},
   "outputs": [],
   "source": [
    "connection = psycopg2.connect(database=\"mydatabase\",\n",
    "                              user=\"myusername\",\n",
    "                              password=\"mypassword\",\n",
    "                              host=\"localhost\")\n",
    "cursor = connection.cursor()"
   ]
  },
  {
   "cell_type": "markdown",
   "metadata": {},
   "source": [
    "Here, we will create a table in postgres. If we want to get a little bit fancy, we could automate the number and the names of the columns to correspond to the shapefile metatadata we read earlier into the variable *attributes*"
   ]
  },
  {
   "cell_type": "code",
   "execution_count": null,
   "metadata": {},
   "outputs": [],
   "source": [
    "tablename = \"Mclean_Dupage\"\n",
    "cursor.execute(\"DROP TABLE IF EXISTS {}\".format(tablename))\n",
    "cursor.execute(\"\"\"\n",
    "               CREATE TABLE {}\n",
    "               (id SERIAL PRIMARY KEY,\n",
    "               COUNTY_NAM VARCHAR NOT NULL,\n",
    "               CO_FIPS BIGINT NOT NULL,\n",
    "               geom GEOMETRY)\"\"\".format(tablename))\n",
    "connection.commit()"
   ]
  },
  {
   "cell_type": "markdown",
   "metadata": {},
   "source": [
    "Next, we will read each feature from the shapefile and write it as a postgres record: "
   ]
  },
  {
   "cell_type": "code",
   "execution_count": null,
   "metadata": {},
   "outputs": [],
   "source": [
    "with fiona.drivers():\n",
    "    with fiona.open(infname) as src:\n",
    "        for i in src:\n",
    "            record = list(i['properties'].values())\n",
    "            print (\"{} county has {} fips\".format(*record))\n",
    "            geometry = Polygon(i['geometry']['coordinates'][0])\n",
    "            wktgeometry = geometry.wkt\n",
    "            cursor.execute(\"\"\"\n",
    "                   INSERT INTO {} (COUNTY_NAM, CO_FIPS, geom)\n",
    "                   VALUES ('{}', {}, ST_GeomFromText('{}'))\n",
    "                   \"\"\".format(tablename, *record, wktgeometry))\n",
    "            connection.commit()"
   ]
  },
  {
   "cell_type": "markdown",
   "metadata": {},
   "source": [
    "Next we assign coordinate reference system (CRS) to the PostGIS table:"
   ]
  },
  {
   "cell_type": "code",
   "execution_count": null,
   "metadata": {},
   "outputs": [],
   "source": [
    "connection.commit()\n",
    "cursor.execute(\"\"\"\n",
    "               ALTER TABLE {}\n",
    "                   ALTER COLUMN geom TYPE geometry(Polygon, 4269)\n",
    "                       USING ST_SetSRID(geom, 4269);\n",
    "                       \"\"\".format(tablename))\n",
    "connection.commit()"
   ]
  },
  {
   "cell_type": "code",
   "execution_count": null,
   "metadata": {},
   "outputs": [],
   "source": [
    "# Close the connection\n",
    "connection.close"
   ]
  }
 ],
 "metadata": {
  "kernelspec": {
   "display_name": "Python 3",
   "language": "python",
   "name": "python3"
  },
  "language_info": {
   "codemirror_mode": {
    "name": "ipython",
    "version": 3
   },
   "file_extension": ".py",
   "mimetype": "text/x-python",
   "name": "python",
   "nbconvert_exporter": "python",
   "pygments_lexer": "ipython3",
   "version": "3.5.4"
  }
 },
 "nbformat": 4,
 "nbformat_minor": 2
}
