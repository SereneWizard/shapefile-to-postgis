{
 "cells": [
  {
   "cell_type": "code",
   "execution_count": 1,
   "metadata": {},
   "outputs": [],
   "source": [
    "# Import necessary libraries\n",
    "import os\n",
    "import glob\n",
    "import psycopg2\n",
    "import fiona\n",
    "from shapely.geometry import Polygon"
   ]
  },
  {
   "cell_type": "code",
   "execution_count": 6,
   "metadata": {},
   "outputs": [
    {
     "name": "stderr",
     "output_type": "stream",
     "text": [
      "C:\\Users\\SereneWizard\\AppData\\Local\\conda\\conda\\envs\\evenstar\\lib\\site-packages\\ipykernel_launcher.py:6: DeprecationWarning: Collection.__next__() is buggy and will be removed in Fiona 2.0. Switch to `next(iter(collection))`.\n",
      "  \n"
     ]
    }
   ],
   "source": [
    "# Let's read some metadata from the file\n",
    "infname = glob.glob('vector/*.shp')[0]\n",
    "with fiona.drivers():\n",
    "    with fiona.open(infname) as src:\n",
    "        geom = src.crs\n",
    "        feat = src.next()\n",
    "        attributes = feat['properties'].keys()\n",
    "        gemtype = feat['geometry']['type']\n",
    "        "
   ]
  },
  {
   "cell_type": "code",
   "execution_count": 5,
   "metadata": {},
   "outputs": [
    {
     "data": {
      "text/plain": [
       "'1.7.10'"
      ]
     },
     "execution_count": 5,
     "metadata": {},
     "output_type": "execute_result"
    }
   ],
   "source": [
    "# Connect to a postgres database, in this case in the localhost\n",
    "connection = psycopg2.connect(database=\"mydatabase\",\n",
    "                              user=\"myusername\",\n",
    "                              password=\"mypassword\",\n",
    "                              host=\"localhost\")\n",
    "cursor = connection.cursor()"
   ]
  },
  {
   "cell_type": "code",
   "execution_count": 7,
   "metadata": {},
   "outputs": [
    {
     "ename": "NameError",
     "evalue": "name 'cursor' is not defined",
     "output_type": "error",
     "traceback": [
      "\u001b[1;31m---------------------------------------------------------------------------\u001b[0m",
      "\u001b[1;31mNameError\u001b[0m                                 Traceback (most recent call last)",
      "\u001b[1;32m<ipython-input-7-c230067dc573>\u001b[0m in \u001b[0;36m<module>\u001b[1;34m()\u001b[0m\n\u001b[0;32m      1\u001b[0m \u001b[1;31m# Create a table in the postgres\u001b[0m\u001b[1;33m\u001b[0m\u001b[1;33m\u001b[0m\u001b[0m\n\u001b[0;32m      2\u001b[0m \u001b[0mtablename\u001b[0m \u001b[1;33m=\u001b[0m \u001b[1;34m\"Mclean_Dupage\"\u001b[0m\u001b[1;33m\u001b[0m\u001b[0m\n\u001b[1;32m----> 3\u001b[1;33m \u001b[0mcursor\u001b[0m\u001b[1;33m.\u001b[0m\u001b[0mexecute\u001b[0m\u001b[1;33m(\u001b[0m\u001b[1;34m\"DROP TABLE IF EXISTS {}\"\u001b[0m\u001b[1;33m.\u001b[0m\u001b[0mformat\u001b[0m\u001b[1;33m(\u001b[0m\u001b[0mtablename\u001b[0m\u001b[1;33m)\u001b[0m\u001b[1;33m)\u001b[0m\u001b[1;33m\u001b[0m\u001b[0m\n\u001b[0m\u001b[0;32m      4\u001b[0m cursor.execute(\"\"\"\n\u001b[0;32m      5\u001b[0m                \u001b[0mCREATE\u001b[0m \u001b[0mTABLE\u001b[0m \u001b[1;33m{\u001b[0m\u001b[1;33m}\u001b[0m\u001b[1;33m\u001b[0m\u001b[0m\n",
      "\u001b[1;31mNameError\u001b[0m: name 'cursor' is not defined"
     ]
    }
   ],
   "source": [
    "# Create a table in the postgres\n",
    "tablename = \"Mclean_Dupage\"\n",
    "cursor.execute(\"DROP TABLE IF EXISTS {}\".format(tablename))\n",
    "cursor.execute(\"\"\"\n",
    "               CREATE TABLE {}\n",
    "               (id SERIAL PRIMARY KEY,\n",
    "               COUNTY_NAM VARCHAR NOT NULL,\n",
    "               CO_FIPS BIGINT NOT NULL,\n",
    "               geom GEOMETRY)\"\"\".format(tablename))\n",
    "connection.commit()"
   ]
  },
  {
   "cell_type": "code",
   "execution_count": null,
   "metadata": {},
   "outputs": [],
   "source": []
  }
 ],
 "metadata": {
  "kernelspec": {
   "display_name": "Python 3",
   "language": "python",
   "name": "python3"
  },
  "language_info": {
   "codemirror_mode": {
    "name": "ipython",
    "version": 3
   },
   "file_extension": ".py",
   "mimetype": "text/x-python",
   "name": "python",
   "nbconvert_exporter": "python",
   "pygments_lexer": "ipython3",
   "version": "3.5.4"
  }
 },
 "nbformat": 4,
 "nbformat_minor": 2
}
